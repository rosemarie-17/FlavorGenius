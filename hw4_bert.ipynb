{
  "cells": [
    {
      "cell_type": "code",
      "source": [
        "import torch\n",
        "DEVICE = torch.device(\"cuda\" if torch.cuda.is_available() else \"cpu\")\n",
        "DEVICE"
      ],
      "metadata": {
        "colab": {
          "base_uri": "https://localhost:8080/"
        },
        "id": "sIhKC5UzdJ6i",
        "outputId": "47195342-7819-414c-de95-4d8fa5067891"
      },
      "id": "sIhKC5UzdJ6i",
      "execution_count": 58,
      "outputs": [
        {
          "output_type": "execute_result",
          "data": {
            "text/plain": [
              "device(type='cuda')"
            ]
          },
          "metadata": {},
          "execution_count": 58
        }
      ]
    },
    {
      "cell_type": "code",
      "source": [
        "from sentence_transformers import SentenceTransformer\n",
        "from transformers import AutoTokenizer\n",
        "\n",
        "bert_tokenizer = AutoTokenizer.from_pretrained(\"nomic-ai/modernbert-embed-base\")\n",
        "bert_model = SentenceTransformer(\"nomic-ai/modernbert-embed-base\", device=DEVICE)"
      ],
      "metadata": {
        "id": "fIpCMYOIdPyi"
      },
      "id": "fIpCMYOIdPyi",
      "execution_count": 59,
      "outputs": []
    },
    {
      "cell_type": "code",
      "source": [
        "import pandas as pd\n",
        "file_path = \"wiki_movie_plots_deduped.csv\"\n",
        "df = pd.read_csv(file_path)\n",
        "\n",
        "filtered_df = df[df['Release Year'] >= 1980]\n",
        "filtered_df.head()"
      ],
      "metadata": {
        "colab": {
          "base_uri": "https://localhost:8080/",
          "height": 695
        },
        "id": "nslgAb8xdoR5",
        "outputId": "7948813c-6e9b-4f8b-a697-82df837c2746"
      },
      "id": "nslgAb8xdoR5",
      "execution_count": 60,
      "outputs": [
        {
          "output_type": "execute_result",
          "data": {
            "text/plain": [
              "      Release Year            Title Origin/Ethnicity  \\\n",
              "9670          1980        Airplane!         American   \n",
              "9671          1980       Alien Dead         American   \n",
              "9672          1980        Alligator         American   \n",
              "9673          1980   Altered States         American   \n",
              "9674          1980  American Gigolo         American   \n",
              "\n",
              "                        Director  \\\n",
              "9670  Jim Abrahams, Jerry Zucker   \n",
              "9671               Fred Olen Ray   \n",
              "9672                Lewis Teague   \n",
              "9673                 Ken Russell   \n",
              "9674               Paul Schrader   \n",
              "\n",
              "                                                   Cast    Genre  \\\n",
              "9670  Robert Hays, Julie Hagerty, Leslie Nielsen, Pe...  unknown   \n",
              "9671                                      Buster Crabbe  unknown   \n",
              "9672                        Robert Forster, Robin Riker  unknown   \n",
              "9673                          William Hurt, Blair Brown  unknown   \n",
              "9674       Richard Gere, Lauren Hutton, Héctor Elizondo  unknown   \n",
              "\n",
              "                                           Wiki Page  \\\n",
              "9670         https://en.wikipedia.org/wiki/Airplane!   \n",
              "9671        https://en.wikipedia.org/wiki/Alien_Dead   \n",
              "9672  https://en.wikipedia.org/wiki/Alligator_(film)   \n",
              "9673    https://en.wikipedia.org/wiki/Altered_States   \n",
              "9674   https://en.wikipedia.org/wiki/American_Gigolo   \n",
              "\n",
              "                                                   Plot  \n",
              "9670  As a parody film, Airplane! tells its story in...  \n",
              "9671  A meteor strikes a houseboat in the swamps nea...  \n",
              "9672  A teenage girl purchases a baby American allig...  \n",
              "9673  Edward Jessup is an abnormal psychologist who,...  \n",
              "9674  Julian Kaye is a male escort in Los Angeles, w...  "
            ],
            "text/html": [
              "\n",
              "  <div id=\"df-566c41dc-a7d5-4ce9-8673-b63641e49959\" class=\"colab-df-container\">\n",
              "    <div>\n",
              "<style scoped>\n",
              "    .dataframe tbody tr th:only-of-type {\n",
              "        vertical-align: middle;\n",
              "    }\n",
              "\n",
              "    .dataframe tbody tr th {\n",
              "        vertical-align: top;\n",
              "    }\n",
              "\n",
              "    .dataframe thead th {\n",
              "        text-align: right;\n",
              "    }\n",
              "</style>\n",
              "<table border=\"1\" class=\"dataframe\">\n",
              "  <thead>\n",
              "    <tr style=\"text-align: right;\">\n",
              "      <th></th>\n",
              "      <th>Release Year</th>\n",
              "      <th>Title</th>\n",
              "      <th>Origin/Ethnicity</th>\n",
              "      <th>Director</th>\n",
              "      <th>Cast</th>\n",
              "      <th>Genre</th>\n",
              "      <th>Wiki Page</th>\n",
              "      <th>Plot</th>\n",
              "    </tr>\n",
              "  </thead>\n",
              "  <tbody>\n",
              "    <tr>\n",
              "      <th>9670</th>\n",
              "      <td>1980</td>\n",
              "      <td>Airplane!</td>\n",
              "      <td>American</td>\n",
              "      <td>Jim Abrahams, Jerry Zucker</td>\n",
              "      <td>Robert Hays, Julie Hagerty, Leslie Nielsen, Pe...</td>\n",
              "      <td>unknown</td>\n",
              "      <td>https://en.wikipedia.org/wiki/Airplane!</td>\n",
              "      <td>As a parody film, Airplane! tells its story in...</td>\n",
              "    </tr>\n",
              "    <tr>\n",
              "      <th>9671</th>\n",
              "      <td>1980</td>\n",
              "      <td>Alien Dead</td>\n",
              "      <td>American</td>\n",
              "      <td>Fred Olen Ray</td>\n",
              "      <td>Buster Crabbe</td>\n",
              "      <td>unknown</td>\n",
              "      <td>https://en.wikipedia.org/wiki/Alien_Dead</td>\n",
              "      <td>A meteor strikes a houseboat in the swamps nea...</td>\n",
              "    </tr>\n",
              "    <tr>\n",
              "      <th>9672</th>\n",
              "      <td>1980</td>\n",
              "      <td>Alligator</td>\n",
              "      <td>American</td>\n",
              "      <td>Lewis Teague</td>\n",
              "      <td>Robert Forster, Robin Riker</td>\n",
              "      <td>unknown</td>\n",
              "      <td>https://en.wikipedia.org/wiki/Alligator_(film)</td>\n",
              "      <td>A teenage girl purchases a baby American allig...</td>\n",
              "    </tr>\n",
              "    <tr>\n",
              "      <th>9673</th>\n",
              "      <td>1980</td>\n",
              "      <td>Altered States</td>\n",
              "      <td>American</td>\n",
              "      <td>Ken Russell</td>\n",
              "      <td>William Hurt, Blair Brown</td>\n",
              "      <td>unknown</td>\n",
              "      <td>https://en.wikipedia.org/wiki/Altered_States</td>\n",
              "      <td>Edward Jessup is an abnormal psychologist who,...</td>\n",
              "    </tr>\n",
              "    <tr>\n",
              "      <th>9674</th>\n",
              "      <td>1980</td>\n",
              "      <td>American Gigolo</td>\n",
              "      <td>American</td>\n",
              "      <td>Paul Schrader</td>\n",
              "      <td>Richard Gere, Lauren Hutton, Héctor Elizondo</td>\n",
              "      <td>unknown</td>\n",
              "      <td>https://en.wikipedia.org/wiki/American_Gigolo</td>\n",
              "      <td>Julian Kaye is a male escort in Los Angeles, w...</td>\n",
              "    </tr>\n",
              "  </tbody>\n",
              "</table>\n",
              "</div>\n",
              "    <div class=\"colab-df-buttons\">\n",
              "\n",
              "  <div class=\"colab-df-container\">\n",
              "    <button class=\"colab-df-convert\" onclick=\"convertToInteractive('df-566c41dc-a7d5-4ce9-8673-b63641e49959')\"\n",
              "            title=\"Convert this dataframe to an interactive table.\"\n",
              "            style=\"display:none;\">\n",
              "\n",
              "  <svg xmlns=\"http://www.w3.org/2000/svg\" height=\"24px\" viewBox=\"0 -960 960 960\">\n",
              "    <path d=\"M120-120v-720h720v720H120Zm60-500h600v-160H180v160Zm220 220h160v-160H400v160Zm0 220h160v-160H400v160ZM180-400h160v-160H180v160Zm440 0h160v-160H620v160ZM180-180h160v-160H180v160Zm440 0h160v-160H620v160Z\"/>\n",
              "  </svg>\n",
              "    </button>\n",
              "\n",
              "  <style>\n",
              "    .colab-df-container {\n",
              "      display:flex;\n",
              "      gap: 12px;\n",
              "    }\n",
              "\n",
              "    .colab-df-convert {\n",
              "      background-color: #E8F0FE;\n",
              "      border: none;\n",
              "      border-radius: 50%;\n",
              "      cursor: pointer;\n",
              "      display: none;\n",
              "      fill: #1967D2;\n",
              "      height: 32px;\n",
              "      padding: 0 0 0 0;\n",
              "      width: 32px;\n",
              "    }\n",
              "\n",
              "    .colab-df-convert:hover {\n",
              "      background-color: #E2EBFA;\n",
              "      box-shadow: 0px 1px 2px rgba(60, 64, 67, 0.3), 0px 1px 3px 1px rgba(60, 64, 67, 0.15);\n",
              "      fill: #174EA6;\n",
              "    }\n",
              "\n",
              "    .colab-df-buttons div {\n",
              "      margin-bottom: 4px;\n",
              "    }\n",
              "\n",
              "    [theme=dark] .colab-df-convert {\n",
              "      background-color: #3B4455;\n",
              "      fill: #D2E3FC;\n",
              "    }\n",
              "\n",
              "    [theme=dark] .colab-df-convert:hover {\n",
              "      background-color: #434B5C;\n",
              "      box-shadow: 0px 1px 3px 1px rgba(0, 0, 0, 0.15);\n",
              "      filter: drop-shadow(0px 1px 2px rgba(0, 0, 0, 0.3));\n",
              "      fill: #FFFFFF;\n",
              "    }\n",
              "  </style>\n",
              "\n",
              "    <script>\n",
              "      const buttonEl =\n",
              "        document.querySelector('#df-566c41dc-a7d5-4ce9-8673-b63641e49959 button.colab-df-convert');\n",
              "      buttonEl.style.display =\n",
              "        google.colab.kernel.accessAllowed ? 'block' : 'none';\n",
              "\n",
              "      async function convertToInteractive(key) {\n",
              "        const element = document.querySelector('#df-566c41dc-a7d5-4ce9-8673-b63641e49959');\n",
              "        const dataTable =\n",
              "          await google.colab.kernel.invokeFunction('convertToInteractive',\n",
              "                                                    [key], {});\n",
              "        if (!dataTable) return;\n",
              "\n",
              "        const docLinkHtml = 'Like what you see? Visit the ' +\n",
              "          '<a target=\"_blank\" href=https://colab.research.google.com/notebooks/data_table.ipynb>data table notebook</a>'\n",
              "          + ' to learn more about interactive tables.';\n",
              "        element.innerHTML = '';\n",
              "        dataTable['output_type'] = 'display_data';\n",
              "        await google.colab.output.renderOutput(dataTable, element);\n",
              "        const docLink = document.createElement('div');\n",
              "        docLink.innerHTML = docLinkHtml;\n",
              "        element.appendChild(docLink);\n",
              "      }\n",
              "    </script>\n",
              "  </div>\n",
              "\n",
              "\n",
              "    <div id=\"df-5862ed90-14e9-4f51-9b95-448fd1779266\">\n",
              "      <button class=\"colab-df-quickchart\" onclick=\"quickchart('df-5862ed90-14e9-4f51-9b95-448fd1779266')\"\n",
              "                title=\"Suggest charts\"\n",
              "                style=\"display:none;\">\n",
              "\n",
              "<svg xmlns=\"http://www.w3.org/2000/svg\" height=\"24px\"viewBox=\"0 0 24 24\"\n",
              "     width=\"24px\">\n",
              "    <g>\n",
              "        <path d=\"M19 3H5c-1.1 0-2 .9-2 2v14c0 1.1.9 2 2 2h14c1.1 0 2-.9 2-2V5c0-1.1-.9-2-2-2zM9 17H7v-7h2v7zm4 0h-2V7h2v10zm4 0h-2v-4h2v4z\"/>\n",
              "    </g>\n",
              "</svg>\n",
              "      </button>\n",
              "\n",
              "<style>\n",
              "  .colab-df-quickchart {\n",
              "      --bg-color: #E8F0FE;\n",
              "      --fill-color: #1967D2;\n",
              "      --hover-bg-color: #E2EBFA;\n",
              "      --hover-fill-color: #174EA6;\n",
              "      --disabled-fill-color: #AAA;\n",
              "      --disabled-bg-color: #DDD;\n",
              "  }\n",
              "\n",
              "  [theme=dark] .colab-df-quickchart {\n",
              "      --bg-color: #3B4455;\n",
              "      --fill-color: #D2E3FC;\n",
              "      --hover-bg-color: #434B5C;\n",
              "      --hover-fill-color: #FFFFFF;\n",
              "      --disabled-bg-color: #3B4455;\n",
              "      --disabled-fill-color: #666;\n",
              "  }\n",
              "\n",
              "  .colab-df-quickchart {\n",
              "    background-color: var(--bg-color);\n",
              "    border: none;\n",
              "    border-radius: 50%;\n",
              "    cursor: pointer;\n",
              "    display: none;\n",
              "    fill: var(--fill-color);\n",
              "    height: 32px;\n",
              "    padding: 0;\n",
              "    width: 32px;\n",
              "  }\n",
              "\n",
              "  .colab-df-quickchart:hover {\n",
              "    background-color: var(--hover-bg-color);\n",
              "    box-shadow: 0 1px 2px rgba(60, 64, 67, 0.3), 0 1px 3px 1px rgba(60, 64, 67, 0.15);\n",
              "    fill: var(--button-hover-fill-color);\n",
              "  }\n",
              "\n",
              "  .colab-df-quickchart-complete:disabled,\n",
              "  .colab-df-quickchart-complete:disabled:hover {\n",
              "    background-color: var(--disabled-bg-color);\n",
              "    fill: var(--disabled-fill-color);\n",
              "    box-shadow: none;\n",
              "  }\n",
              "\n",
              "  .colab-df-spinner {\n",
              "    border: 2px solid var(--fill-color);\n",
              "    border-color: transparent;\n",
              "    border-bottom-color: var(--fill-color);\n",
              "    animation:\n",
              "      spin 1s steps(1) infinite;\n",
              "  }\n",
              "\n",
              "  @keyframes spin {\n",
              "    0% {\n",
              "      border-color: transparent;\n",
              "      border-bottom-color: var(--fill-color);\n",
              "      border-left-color: var(--fill-color);\n",
              "    }\n",
              "    20% {\n",
              "      border-color: transparent;\n",
              "      border-left-color: var(--fill-color);\n",
              "      border-top-color: var(--fill-color);\n",
              "    }\n",
              "    30% {\n",
              "      border-color: transparent;\n",
              "      border-left-color: var(--fill-color);\n",
              "      border-top-color: var(--fill-color);\n",
              "      border-right-color: var(--fill-color);\n",
              "    }\n",
              "    40% {\n",
              "      border-color: transparent;\n",
              "      border-right-color: var(--fill-color);\n",
              "      border-top-color: var(--fill-color);\n",
              "    }\n",
              "    60% {\n",
              "      border-color: transparent;\n",
              "      border-right-color: var(--fill-color);\n",
              "    }\n",
              "    80% {\n",
              "      border-color: transparent;\n",
              "      border-right-color: var(--fill-color);\n",
              "      border-bottom-color: var(--fill-color);\n",
              "    }\n",
              "    90% {\n",
              "      border-color: transparent;\n",
              "      border-bottom-color: var(--fill-color);\n",
              "    }\n",
              "  }\n",
              "</style>\n",
              "\n",
              "      <script>\n",
              "        async function quickchart(key) {\n",
              "          const quickchartButtonEl =\n",
              "            document.querySelector('#' + key + ' button');\n",
              "          quickchartButtonEl.disabled = true;  // To prevent multiple clicks.\n",
              "          quickchartButtonEl.classList.add('colab-df-spinner');\n",
              "          try {\n",
              "            const charts = await google.colab.kernel.invokeFunction(\n",
              "                'suggestCharts', [key], {});\n",
              "          } catch (error) {\n",
              "            console.error('Error during call to suggestCharts:', error);\n",
              "          }\n",
              "          quickchartButtonEl.classList.remove('colab-df-spinner');\n",
              "          quickchartButtonEl.classList.add('colab-df-quickchart-complete');\n",
              "        }\n",
              "        (() => {\n",
              "          let quickchartButtonEl =\n",
              "            document.querySelector('#df-5862ed90-14e9-4f51-9b95-448fd1779266 button');\n",
              "          quickchartButtonEl.style.display =\n",
              "            google.colab.kernel.accessAllowed ? 'block' : 'none';\n",
              "        })();\n",
              "      </script>\n",
              "    </div>\n",
              "\n",
              "    </div>\n",
              "  </div>\n"
            ],
            "application/vnd.google.colaboratory.intrinsic+json": {
              "type": "dataframe",
              "variable_name": "filtered_df",
              "summary": "{\n  \"name\": \"filtered_df\",\n  \"rows\": 20247,\n  \"fields\": [\n    {\n      \"column\": \"Release Year\",\n      \"properties\": {\n        \"dtype\": \"number\",\n        \"std\": 10,\n        \"min\": 1980,\n        \"max\": 2017,\n        \"num_unique_values\": 38,\n        \"samples\": [\n          2013,\n          2016,\n          1984\n        ],\n        \"semantic_type\": \"\",\n        \"description\": \"\"\n      }\n    },\n    {\n      \"column\": \"Title\",\n      \"properties\": {\n        \"dtype\": \"string\",\n        \"num_unique_values\": 19227,\n        \"samples\": [\n          \"Silent Rage\",\n          \"Dulhe Raja\",\n          \"Cuci\"\n        ],\n        \"semantic_type\": \"\",\n        \"description\": \"\"\n      }\n    },\n    {\n      \"column\": \"Origin/Ethnicity\",\n      \"properties\": {\n        \"dtype\": \"category\",\n        \"num_unique_values\": 24,\n        \"samples\": [\n          \"Filipino\",\n          \"Tamil\",\n          \"American\"\n        ],\n        \"semantic_type\": \"\",\n        \"description\": \"\"\n      }\n    },\n    {\n      \"column\": \"Director\",\n      \"properties\": {\n        \"dtype\": \"category\",\n        \"num_unique_values\": 9863,\n        \"samples\": [\n          \"Park Heung-sik\",\n          \"Paul Aaron\",\n          \"\\u00c9ric Tessier\"\n        ],\n        \"semantic_type\": \"\",\n        \"description\": \"\"\n      }\n    },\n    {\n      \"column\": \"Cast\",\n      \"properties\": {\n        \"dtype\": \"string\",\n        \"num_unique_values\": 18881,\n        \"samples\": [\n          \"John Candy, Eugene Levy, Pat Hingle\",\n          \"Robin Williams, Edward Norton, Danny DeVito, Catherine Keener, Jon Stewart\",\n          \"Willie Nelson, Dyan Cannon, Amy Irving\"\n        ],\n        \"semantic_type\": \"\",\n        \"description\": \"\"\n      }\n    },\n    {\n      \"column\": \"Genre\",\n      \"properties\": {\n        \"dtype\": \"category\",\n        \"num_unique_values\": 1877,\n        \"samples\": [\n          \"comedy, fantasy, adventure\",\n          \"horror / thriller / drama\",\n          \"comedy, drama, romance \"\n        ],\n        \"semantic_type\": \"\",\n        \"description\": \"\"\n      }\n    },\n    {\n      \"column\": \"Wiki Page\",\n      \"properties\": {\n        \"dtype\": \"string\",\n        \"num_unique_values\": 19683,\n        \"samples\": [\n          \"https://en.wikipedia.org/wiki/Private_Eye_(film)\",\n          \"https://en.wikipedia.org/wiki/Kannathal\",\n          \"https://en.wikipedia.org/wiki/Ju-on_2\"\n        ],\n        \"semantic_type\": \"\",\n        \"description\": \"\"\n      }\n    },\n    {\n      \"column\": \"Plot\",\n      \"properties\": {\n        \"dtype\": \"string\",\n        \"num_unique_values\": 19550,\n        \"samples\": [\n          \"Joshua Rose (Dennis Quaid), a State Department Official on embassy duty in Paris, sees his wife (Nastassja Kinski) and son killed in a bombing by suspected Islamic terrorists. Immediately after the family funeral he storms into a nearby mosque and shoots several worshipers. His friend Peter (Stellan Skarsg\\u00e5rd) is forced to shoot one of the survivors when the man tries to kill Rose, and in order to avoid arrest they join the French Foreign Legion, with Joshua taking the name Guy.\\r\\nThe film moves forward to the war in Bosnia where \\\"Guy\\\" and Peter are now fighting for the Bosnian Serbs, stationed on a bridge separating them and the Bosnian Muslims in a town. Guy mans a sniper post overlooking the bridge, and witnesses Peter's death when Peter drops his guard at a checkpoint and a young girl throws a grenade at him. Guy in turn shoots a boy crossing the bridge in pursuit of his goat.\\r\\nGuy is then seen searching the Muslim side of the town following a ceasefire along with a Bosnian Serb soldier Goran (Sergej Trifunovi\\u0107). In one house they find an elderly Muslim woman who is confined to bed and shell-shocked and a dead woman. Guy also finds a sleeping baby who has been hidden in a wardrobe but does not inform Goran who hacks a finger off the old woman in order to steal her ring.\\r\\nAfter they leave the house a helicopter attacks the town. As Goran takes cover Guy stays out in the open and returns to the house, but finds that both the child and the old lady have been killed by falling rubble. Later, Guy and Goran prepare for a prisoner exchange with the Bosnian Muslim forces. When they arrive at the exchange point one of the young Serbian women prisoners being exchanged, Vera (Nata\\u0161a Ninkovi\\u0107), is visibly pregnant because she was raped by the Muslim forces. Guy and Goran take her in Goran's car and they head towards her village.\\r\\nIn the car Goran is abusive towards Vera for becoming pregnant by a Bosnian Muslim Army soldier even though Guy points out that she was almost certainly raped. Goran eventually stops the car in a tunnel. He throws Vera out of the car and begins to kick her as she lies on the ground. The assault forces Vera into premature labor. As Goran prepares to shoot the soon-to-be-born child, Guy shoots and kills Goran. He then helps deliver the baby. When he shows Vera the child, a girl, she rejects it and attempts to shoot herself before Guy manages to stop her.\\r\\nThey continue to her village where she is rejected by her family due to the shame felt by her father. They leave the village, with Guy intending to head for a refugee camp where Vera and the baby would be looked after. Vera continues to reject the child and does not communicate with Guy. After being told by Goran's family that Goran's body has been found and that he was last seen in the company of Guy and Vera, Vera's father and brother head off in pursuit of them. They eventually catch up with them when they stop to get milk for the child. Guy is shot and injured, but Vera places herself between him and her father as he goes to kill him, and her father backs off and allows them to leave when Guy tells him that Goran intended to kill both Vera and the baby.\\r\\nThey briefly return to Vera's village to find it has been attacked, and have to watch from a distance as her family and other villagers are rounded up and led away by Bosnian Muslim fighters. Guy decides to head for the safety of the UN zone in Split on the Dalmatian Coast. On their way they stop and take refuge with an elderly Croatian man and his Serbian wife. The old man tells Guy \\\"before the war, no difference [between Serbs and Croats], and now, stupid\\\", pointing to his head to show madness.\\r\\nAfter moving on they reach what they think is a relatively safe area. Vera leaves Guy and the child to rest in an abandoned and half-sunk boat on the edge of a lake while she goes to find a bus that will take them to Split. Vera is captured along with other civilians by soldiers of the Croatian Defence Council. The Croat soldiers take their prisoners to the waterfront where Guy is hiding in the boat. One soldier then proceeds to beat several to death with a sledgehammer, including Vera, as they stand in the water. The fighters shoot those that are left as Guy witnesses the slaughter from inside the boat but can do nothing without giving himself and the child away. He smothers the baby in order to keep her quiet as the soldiers prepare to leave. She stops breathing but returns to breathe after a while.\\r\\nGuy eventually makes his way onto a bus that takes him and the baby to Split where he leaves Vera's baby in an unattended Red Cross vehicle and writes the name \\\"Vera\\\" on a paper before walking to a pier, throwing his rifle and scope in the water and collapsing on a bench. A woman who was on the bus with him approaches him, carrying the girl and offering help. When she asks if the baby is his, Guy replies that she is and the woman promises to take them both to a hospital. End credits roll.\",\n          \"Nozoki Ana follows the life and loves of art student Tatsuhiko Kido. After moving to Tokyo to attend art school, he discovers a hole in the wall of his apartment through which he has a view of the neighboring apartment. When he looks through it he sees his beautiful neighbor, Emiru Ikuno, masturbating. When he goes next door to tell her about the hole, she lets him into the apartment. Unfortunately for him, he trips, falls, and ends up on top of her. Emiru snaps a photo of them in this awkward position and insists that she will only erase the picture if he leaves the hole and allows her to peep on him. But she isn't selfish - he may peep on her too. This begins a life of the two of them \\\"peeping\\\" on each other.\\r\\nThe rest of the story follows Kido through his sexual relationships and his everyday life while he copes with being both peeped on and encouraged to peep on his neighbor. Eventually giving in to temptation, Kido peeps on Emiru witnessing her masturbating and falls into several traps laid by Emiru who records him sucking on her breasts and kissing her. Later in the story Kido, even though Emiru tries to stop him, finds out that his girlfriend, Kotobiki Yuri, is using him to cheat on her other boyfriend who does not care what she does. This prompts Kido to end their relationship. Yuri later tries to make up with Kido and seduce him, saying she wants to be with him rather than her other boyfriend, but is rejected.\\r\\nThe story continues with Kido thinking that Emiru is hiding a different side to her. Kido eventually dates another girl, Madoka Watari, who seems perfect for him. She is initially extremely reluctant to lose her virginity but eventually relents and they start dating. As time passes Kido realizes that he has feelings for Emiru and he breaks up with Madoka. He seeks out Emiru's friend, Saki, who tells him the reason why Emiru has become what she is. Despite this revelation, he continues to love her. They hook up the night before their graduation, but the next day Emiru leaves Kido before the graduation ceremony but he makes one final rule in their peeping game which was to have ended with their graduation: he will wait for her for one year before moving on. A year after graduation he returns from a class reunion to find that she has returned and they finally become the couple they were destined to be.\",\n          \"Celeste (Kim Basinger) is an alien sent on a secret mission to Earth, and Steven Mills (Dan Aykroyd) is a widowed scientist who is working on different ways to send radio waves into deep space. Steven accidentally sends a radio wave out of the galaxy to Celeste's home world (Cosine N to the 8th) which causes a disruption of gravity on her planet. She is sent to investigate who could affect gravity and how it was done, believing that it was an attack. She is aided by an alien device (called Bag) resembling a tentacle with an eye, which hides in a designer purse to aid Celeste with her encounters on Earth. Bag is able to create any object, such as diamonds and designer dresses almost instantaneously. Celeste crashes a party hosted by Steven's brother Ron (Jon Lovitz), where she immediately draws attention to herself by making dated references to old TV shows and political slogans under the mistaken belief that it was current (her superiors had just collected the information, which had taken 92 years to get from Earth to her home world).\\r\\nCeleste's inexperience almost results in her exposing herself as alien when she struggles with simple tasks like trying to kiss for the first time or cooking. She goes home with Steven and spends the night, after Bag teaches her what sex is (which she greatly enjoys). Jessie Mills (Alyson Hannigan), Steven's 13-year-old daughter, is at first happy that her father has found someone (her mother died five years previously) but becomes suspicious when she observes Celeste eating the acid out of batteries, and pulling hard boiled eggs out of boiling hot water with her bare hands. However, she cannot convince her smitten father that something is unusual about Celeste, and when Celeste tells him that she must leave in 24 hours he impulsively proposes, and she accepts. Ron also has his doubts about Celeste and tries to dissuade Steven from marrying Celeste on the idea she is an illegal immigrant or planning economic espionage, but then admits he is jealous his brother found his dream girl whereas he will never find a girl like Princess St\\u00e9phanie of Monaco.\\r\\nCeleste encounters new experiences such as sneezing and love. When finally confronted about being an extraterrestrial by Jessie, Celeste admits her home world is without emotion. Celeste plans to depart once she discovers how Steven created the radio signal and gets him to recreate it (which she says will reverse the gravity problems on her world), but is put in a quandary by Jessie, who says it will devastate her father, for whom Celeste has now developed feelings. After Jessie argues with her dad, she runs away and is nearly hit by a car, but is saved by Celeste's powers. This reveals to Steven that Celeste is indeed an alien and that she has fallen in love with him and accepted Jessie as her own daughter.\\r\\nSteven eventually realizes how he was able to create the radio wave and manages to repeat it, reversing the gravity on Celeste's planet and saving it. After destroying Bag (which tried to kill them), the leaders of Celeste's home world report in and ask her to destroy the planet Earth. She and Steven manage to convince them it was not an act of aggression, but an accident, and that Earth has many benefits that require further studying. They accept the explanation and demand that Celeste return to explain human culture to them, but settle for a native of Earth to serve as ambassador to their world as a token of goodwill. The ambassadorship is accepted by Ron, who departs for Celeste's world in a spaceship served by several flight attendants, all of whom look like Princess St\\u00e9phanie.\"\n        ],\n        \"semantic_type\": \"\",\n        \"description\": \"\"\n      }\n    }\n  ]\n}"
            }
          },
          "metadata": {},
          "execution_count": 60
        }
      ]
    },
    {
      "cell_type": "markdown",
      "source": [
        "## 1A"
      ],
      "metadata": {
        "id": "D62j_Rq1eQGv"
      },
      "id": "D62j_Rq1eQGv"
    },
    {
      "cell_type": "code",
      "source": [
        "plots_top10 = filtered_df['Plot'].head(10).tolist()\n",
        "titles = filtered_df['Title'].head(10).tolist()\n",
        "\n",
        "print(\"10 titles to test:\")\n",
        "titles"
      ],
      "metadata": {
        "colab": {
          "base_uri": "https://localhost:8080/"
        },
        "id": "OvMLgozCdq8p",
        "outputId": "2bd645d5-1350-4163-fc7b-69d23b8fe54a"
      },
      "id": "OvMLgozCdq8p",
      "execution_count": 61,
      "outputs": [
        {
          "output_type": "stream",
          "name": "stdout",
          "text": [
            "10 titles to test:\n"
          ]
        },
        {
          "output_type": "execute_result",
          "data": {
            "text/plain": [
              "['Airplane!',\n",
              " 'Alien Dead',\n",
              " 'Alligator',\n",
              " 'Altered States',\n",
              " 'American Gigolo',\n",
              " 'Animalympics',\n",
              " 'Antropophagus[citation needed]',\n",
              " 'Any Which Way You Can',\n",
              " 'Atlantic City',\n",
              " 'Death Watch']"
            ]
          },
          "metadata": {},
          "execution_count": 61
        }
      ]
    },
    {
      "cell_type": "code",
      "source": [
        "bert_embeddings_top10 = bert_model.encode(plots_top10, normalize_embeddings=False, show_progress_bar=True)\n",
        "\n",
        "print(\"Embedding shape:\", bert_embeddings_top10.shape)"
      ],
      "metadata": {
        "colab": {
          "base_uri": "https://localhost:8080/",
          "height": 66,
          "referenced_widgets": [
            "37d69c8b611a4b0fb95700b5eb54b08a",
            "9530b25f73e14cdb9187212a7a41e732",
            "380a8d28928e40c6a6a78703dc01b3f1",
            "e5d0efa4bd8a4cefae809a0e67e48301",
            "9d1092fd421e4fbb9bf7735fb22dab70",
            "8f0479ae8b314ee882e7f7c858f99150",
            "4e0769531aa84856ab9f7fb6bba7286b",
            "8f9ecdcb39b4403ba854894e443b2f7d",
            "cad76bd9bab54f768ec4a4e7355b1254",
            "9901382b959c46ec915af9509bdf8414",
            "c00d2fda034d48b799783af8ec9a89ae"
          ]
        },
        "id": "ndGKhB7qds1t",
        "outputId": "ecb0c6e1-cf32-4b78-ec41-ece5a13052a7"
      },
      "id": "ndGKhB7qds1t",
      "execution_count": 62,
      "outputs": [
        {
          "output_type": "display_data",
          "data": {
            "text/plain": [
              "Batches:   0%|          | 0/1 [00:00<?, ?it/s]"
            ],
            "application/vnd.jupyter.widget-view+json": {
              "version_major": 2,
              "version_minor": 0,
              "model_id": "37d69c8b611a4b0fb95700b5eb54b08a"
            }
          },
          "metadata": {}
        },
        {
          "output_type": "stream",
          "name": "stdout",
          "text": [
            "Embedding shape: (10, 768)\n"
          ]
        }
      ]
    },
    {
      "cell_type": "markdown",
      "source": [
        "## 1B"
      ],
      "metadata": {
        "id": "VB23FDH7eTQ8"
      },
      "id": "VB23FDH7eTQ8"
    },
    {
      "cell_type": "code",
      "source": [
        "bert_max_length = bert_tokenizer.model_max_length\n",
        "bert_tokens = [len(bert_tokenizer.encode(p)) for p in plots_top10]\n",
        "bert_no_trunc = sum(tc <= bert_max_length for tc in bert_tokens)\n",
        "\n",
        "print(\"Plots embedded without truncation:\")\n",
        "print(\"Bert:\", bert_no_trunc)"
      ],
      "metadata": {
        "colab": {
          "base_uri": "https://localhost:8080/"
        },
        "id": "2QXqT05yd20e",
        "outputId": "bf040fa9-8043-49ac-90f2-1cd412d4a151"
      },
      "id": "2QXqT05yd20e",
      "execution_count": 63,
      "outputs": [
        {
          "output_type": "stream",
          "name": "stdout",
          "text": [
            "Plots embedded without truncation:\n",
            "Bert: 10\n"
          ]
        }
      ]
    },
    {
      "cell_type": "markdown",
      "source": [
        "## 1C"
      ],
      "metadata": {
        "id": "Zoe9FnKUeVJ4"
      },
      "id": "Zoe9FnKUeVJ4"
    },
    {
      "cell_type": "code",
      "source": [
        "import numpy as np\n",
        "word_counts = [len(p.split()) for p in plots_top10]\n",
        "\n",
        "print(\"Word lengths of first 10 plots:\", word_counts)\n",
        "print(\"Max words:\", max(word_counts))\n",
        "print(\"Min words:\", min(word_counts))\n",
        "print(\"Average words:\", np.mean(word_counts))"
      ],
      "metadata": {
        "colab": {
          "base_uri": "https://localhost:8080/"
        },
        "id": "XG0RyQ46eMk5",
        "outputId": "316216ff-d135-4db2-d79a-42403f3236e2"
      },
      "id": "XG0RyQ46eMk5",
      "execution_count": 64,
      "outputs": [
        {
          "output_type": "stream",
          "name": "stdout",
          "text": [
            "Word lengths of first 10 plots: [355, 50, 559, 519, 400, 419, 669, 389, 381, 601]\n",
            "Max words: 669\n",
            "Min words: 50\n",
            "Average words: 434.2\n"
          ]
        }
      ]
    },
    {
      "cell_type": "markdown",
      "source": [
        "## 2"
      ],
      "metadata": {
        "id": "O7S9rJjOeak9"
      },
      "id": "O7S9rJjOeak9"
    },
    {
      "cell_type": "code",
      "source": [
        "plots = filtered_df['Plot'].tolist()\n",
        "\n",
        "bert_embeddings = bert_model.encode(plots, normalize_embeddings=False, show_progress_bar=True)"
      ],
      "metadata": {
        "colab": {
          "base_uri": "https://localhost:8080/",
          "height": 49,
          "referenced_widgets": [
            "872b37fea1b947d1b621e172a94b1a2b",
            "03134d05e2c049ebaf8ee76a2553076e",
            "4aae4ab7f92c4338901bc64bbf26fcaa",
            "f47855db38e445bdb70a3d45483fd7d9",
            "5c8e18ed209c497e9fbe280718f45058",
            "55dd638cd5474854bae4fc71631dd2af",
            "ca10c6b1d9b54abc93b45b809e9f9f85",
            "251e5fc9a6d14ddb9a8ceefdd60abfcf",
            "3ed8f2c311d1472d8cb387578bc62f55",
            "83a55328cf33440faa2d3b9d0d32b7cf",
            "4d2608633c244b7185b687b0fea0884c"
          ]
        },
        "id": "le48dURRebT4",
        "outputId": "ad2b2629-7953-4405-c831-d63f32bbd365"
      },
      "id": "le48dURRebT4",
      "execution_count": 65,
      "outputs": [
        {
          "output_type": "display_data",
          "data": {
            "text/plain": [
              "Batches:   0%|          | 0/633 [00:00<?, ?it/s]"
            ],
            "application/vnd.jupyter.widget-view+json": {
              "version_major": 2,
              "version_minor": 0,
              "model_id": "872b37fea1b947d1b621e172a94b1a2b"
            }
          },
          "metadata": {}
        }
      ]
    },
    {
      "cell_type": "code",
      "source": [
        "!pip install faiss-cpu"
      ],
      "metadata": {
        "colab": {
          "base_uri": "https://localhost:8080/"
        },
        "id": "7uAOxWrMG9LS",
        "outputId": "52b30250-6310-429f-c75e-17b474c0f1db"
      },
      "id": "7uAOxWrMG9LS",
      "execution_count": 66,
      "outputs": [
        {
          "output_type": "stream",
          "name": "stdout",
          "text": [
            "Requirement already satisfied: faiss-cpu in /usr/local/lib/python3.12/dist-packages (1.12.0)\n",
            "Requirement already satisfied: numpy<3.0,>=1.25.0 in /usr/local/lib/python3.12/dist-packages (from faiss-cpu) (2.0.2)\n",
            "Requirement already satisfied: packaging in /usr/local/lib/python3.12/dist-packages (from faiss-cpu) (25.0)\n"
          ]
        }
      ]
    },
    {
      "cell_type": "code",
      "source": [
        "import faiss\n",
        "\n",
        "bert_index = faiss.IndexFlatL2(bert_embeddings.shape[1])\n",
        "bert_index.add(bert_embeddings)\n",
        "print(f\"Bert index: {bert_index.ntotal} vectors added\")"
      ],
      "metadata": {
        "id": "2G7316-smi5H",
        "outputId": "095226b6-6050-4832-eb3e-5bad2f2c580d",
        "colab": {
          "base_uri": "https://localhost:8080/"
        }
      },
      "id": "2G7316-smi5H",
      "execution_count": 67,
      "outputs": [
        {
          "output_type": "stream",
          "name": "stdout",
          "text": [
            "Bert index: 20247 vectors added\n"
          ]
        }
      ]
    },
    {
      "cell_type": "code",
      "source": [
        "faiss.write_index(bert_index, \"BERT.index\")"
      ],
      "metadata": {
        "id": "rsZ0lc88Ti7K"
      },
      "id": "rsZ0lc88Ti7K",
      "execution_count": 76,
      "outputs": []
    },
    {
      "cell_type": "markdown",
      "source": [
        "## 3"
      ],
      "metadata": {
        "id": "zkXpTH90o2lp"
      },
      "id": "zkXpTH90o2lp"
    },
    {
      "cell_type": "code",
      "source": [
        "queries = [\n",
        "    \"Romantic comedies set in New York City\",\n",
        "    \"Action movies set in the future\",\n",
        "    \"Family-friendly movies about animals\"\n",
        "]\n",
        "\n",
        "titles = filtered_df['Title'].tolist()\n",
        "genres = filtered_df['Genre'].tolist()"
      ],
      "metadata": {
        "id": "GL5AJAVZm_pt"
      },
      "id": "GL5AJAVZm_pt",
      "execution_count": 68,
      "outputs": []
    },
    {
      "cell_type": "code",
      "source": [
        "def build_faiss_indices(embeddings, use_ivf=False, nlist=100):\n",
        "  d = bert_embeddings.shape[1]\n",
        "  if not use_ivf:\n",
        "    index = faiss.IndexFlatIP(d)\n",
        "    faiss.normalize_L2(embeddings)\n",
        "    index.add(embeddings)\n",
        "  else:\n",
        "    faiss.normalize_L2(embeddings)\n",
        "    quantizer = faiss.IndexFlatIP(d)\n",
        "    index = faiss.IndexIVFFlat(quantizer, d, nlist, faiss.METRIC_INNER_PRODUCT)\n",
        "    index.train(embeddings)\n",
        "    index.add(embeddings)\n",
        "  return index"
      ],
      "metadata": {
        "id": "Jr3Vwr6OHPdh"
      },
      "id": "Jr3Vwr6OHPdh",
      "execution_count": 69,
      "outputs": []
    },
    {
      "cell_type": "code",
      "source": [
        "bert_index_exact = build_faiss_indices(bert_embeddings, use_ivf=False)\n",
        "bert_index_ivf = build_faiss_indices(bert_embeddings, use_ivf=True, nlist=100)"
      ],
      "metadata": {
        "id": "My4EiPc6H1vg"
      },
      "id": "My4EiPc6H1vg",
      "execution_count": 70,
      "outputs": []
    },
    {
      "cell_type": "code",
      "source": [
        "def search_top_k(index, query_embedding, k=7):\n",
        "  faiss.normalize_L2(query_embedding)\n",
        "  D, I = index.search(query_embedding, k)\n",
        "  return D, I"
      ],
      "metadata": {
        "id": "aDOS6H3FIB3-"
      },
      "id": "aDOS6H3FIB3-",
      "execution_count": 71,
      "outputs": []
    },
    {
      "cell_type": "code",
      "source": [
        "bert_query_embedding = np.array(bert_model.encode(queries, convert_to_tensor=False), dtype=np.float32)\n",
        "topk = 7\n",
        "results = {}\n",
        "\n",
        "for i, query in enumerate(queries):\n",
        "  results[query] = {}\n",
        "\n",
        "  D_exact, I_exact = search_top_k(bert_index_exact, bert_query_embedding[i:i+1], k=topk)\n",
        "  D_ivf, I_ivf = search_top_k(bert_index_ivf, bert_query_embedding[i:i+1], k=topk)\n",
        "  results[query][\"BERT_Exact\"] = [(titles[idx], genres[idx], plots[idx]) for idx in I_exact[0]]\n",
        "  results[query][\"BERT_IVF\"] = [(titles[idx], genres[idx], plots[idx]) for idx in I_ivf[0]]"
      ],
      "metadata": {
        "id": "Nbfy5DuSIKqp"
      },
      "id": "Nbfy5DuSIKqp",
      "execution_count": 72,
      "outputs": []
    },
    {
      "cell_type": "markdown",
      "source": [
        "## Query 1 BERT results"
      ],
      "metadata": {
        "id": "2mfSyJ0KKFmm"
      },
      "id": "2mfSyJ0KKFmm"
    },
    {
      "cell_type": "code",
      "source": [
        "# results[queries[0]]\n",
        "print(\"Query 1 Exact NN Precision: 5/7\")\n",
        "print(\"Query 1 ANN Precision: 4/7\")"
      ],
      "metadata": {
        "colab": {
          "base_uri": "https://localhost:8080/"
        },
        "id": "u74-wls3KFD1",
        "outputId": "5821fda4-edb3-485a-e482-65ddf698940e"
      },
      "id": "u74-wls3KFD1",
      "execution_count": 73,
      "outputs": [
        {
          "output_type": "stream",
          "name": "stdout",
          "text": [
            "Query 1 Exact NN Precision: 5/7\n",
            "Query 1 ANN Precision: 4/7\n"
          ]
        }
      ]
    },
    {
      "cell_type": "markdown",
      "source": [
        "## Query 2 BERT results"
      ],
      "metadata": {
        "id": "XBllMH_qLGhv"
      },
      "id": "XBllMH_qLGhv"
    },
    {
      "cell_type": "code",
      "source": [
        "# results[queries[1]]\n",
        "print(\"Query 2 Exact NN Precision: 5/7\")\n",
        "print(\"Query 2 ANN Precision: 3/7\")"
      ],
      "metadata": {
        "colab": {
          "base_uri": "https://localhost:8080/"
        },
        "id": "o8u7jeFeLFS4",
        "outputId": "b18d1990-d8f3-42a3-ce01-3aea66b8c57f"
      },
      "id": "o8u7jeFeLFS4",
      "execution_count": 74,
      "outputs": [
        {
          "output_type": "stream",
          "name": "stdout",
          "text": [
            "Query 2 Exact NN Precision: 5/7\n",
            "Query 2 ANN Precision: 3/7\n"
          ]
        }
      ]
    },
    {
      "cell_type": "markdown",
      "source": [
        "## Query 3 BERT results"
      ],
      "metadata": {
        "id": "MN10z3ceMS2z"
      },
      "id": "MN10z3ceMS2z"
    },
    {
      "cell_type": "code",
      "source": [
        "results[queries[2]]\n",
        "print(\"Query 3 Exact NN Precision: 4/7\")\n",
        "print(\"Query 3 ANN Precision: 7/7\")"
      ],
      "metadata": {
        "colab": {
          "base_uri": "https://localhost:8080/"
        },
        "id": "6pj26wJ-LKAz",
        "outputId": "8a98cd1c-0774-4941-ed4f-ce8245d2f581"
      },
      "id": "6pj26wJ-LKAz",
      "execution_count": 75,
      "outputs": [
        {
          "output_type": "stream",
          "name": "stdout",
          "text": [
            "Query 3 Exact NN Precision: 4/7\n",
            "Query 3 ANN Precision: 7/7\n"
          ]
        }
      ]
    }
  ],
  "metadata": {
    "language_info": {
      "name": "python"
    },
    "colab": {
      "provenance": [],
      "gpuType": "A100"
    },
    "kernelspec": {
      "name": "python3",
      "display_name": "Python 3"
    },
    "accelerator": "GPU",
    "widgets": {
      "application/vnd.jupyter.widget-state+json": {
        "37d69c8b611a4b0fb95700b5eb54b08a": {
          "model_module": "@jupyter-widgets/controls",
          "model_name": "HBoxModel",
          "model_module_version": "1.5.0",
          "state": {
            "_dom_classes": [],
            "_model_module": "@jupyter-widgets/controls",
            "_model_module_version": "1.5.0",
            "_model_name": "HBoxModel",
            "_view_count": null,
            "_view_module": "@jupyter-widgets/controls",
            "_view_module_version": "1.5.0",
            "_view_name": "HBoxView",
            "box_style": "",
            "children": [
              "IPY_MODEL_9530b25f73e14cdb9187212a7a41e732",
              "IPY_MODEL_380a8d28928e40c6a6a78703dc01b3f1",
              "IPY_MODEL_e5d0efa4bd8a4cefae809a0e67e48301"
            ],
            "layout": "IPY_MODEL_9d1092fd421e4fbb9bf7735fb22dab70"
          }
        },
        "9530b25f73e14cdb9187212a7a41e732": {
          "model_module": "@jupyter-widgets/controls",
          "model_name": "HTMLModel",
          "model_module_version": "1.5.0",
          "state": {
            "_dom_classes": [],
            "_model_module": "@jupyter-widgets/controls",
            "_model_module_version": "1.5.0",
            "_model_name": "HTMLModel",
            "_view_count": null,
            "_view_module": "@jupyter-widgets/controls",
            "_view_module_version": "1.5.0",
            "_view_name": "HTMLView",
            "description": "",
            "description_tooltip": null,
            "layout": "IPY_MODEL_8f0479ae8b314ee882e7f7c858f99150",
            "placeholder": "​",
            "style": "IPY_MODEL_4e0769531aa84856ab9f7fb6bba7286b",
            "value": "Batches: 100%"
          }
        },
        "380a8d28928e40c6a6a78703dc01b3f1": {
          "model_module": "@jupyter-widgets/controls",
          "model_name": "FloatProgressModel",
          "model_module_version": "1.5.0",
          "state": {
            "_dom_classes": [],
            "_model_module": "@jupyter-widgets/controls",
            "_model_module_version": "1.5.0",
            "_model_name": "FloatProgressModel",
            "_view_count": null,
            "_view_module": "@jupyter-widgets/controls",
            "_view_module_version": "1.5.0",
            "_view_name": "ProgressView",
            "bar_style": "success",
            "description": "",
            "description_tooltip": null,
            "layout": "IPY_MODEL_8f9ecdcb39b4403ba854894e443b2f7d",
            "max": 1,
            "min": 0,
            "orientation": "horizontal",
            "style": "IPY_MODEL_cad76bd9bab54f768ec4a4e7355b1254",
            "value": 1
          }
        },
        "e5d0efa4bd8a4cefae809a0e67e48301": {
          "model_module": "@jupyter-widgets/controls",
          "model_name": "HTMLModel",
          "model_module_version": "1.5.0",
          "state": {
            "_dom_classes": [],
            "_model_module": "@jupyter-widgets/controls",
            "_model_module_version": "1.5.0",
            "_model_name": "HTMLModel",
            "_view_count": null,
            "_view_module": "@jupyter-widgets/controls",
            "_view_module_version": "1.5.0",
            "_view_name": "HTMLView",
            "description": "",
            "description_tooltip": null,
            "layout": "IPY_MODEL_9901382b959c46ec915af9509bdf8414",
            "placeholder": "​",
            "style": "IPY_MODEL_c00d2fda034d48b799783af8ec9a89ae",
            "value": " 1/1 [00:00&lt;00:00,  4.61it/s]"
          }
        },
        "9d1092fd421e4fbb9bf7735fb22dab70": {
          "model_module": "@jupyter-widgets/base",
          "model_name": "LayoutModel",
          "model_module_version": "1.2.0",
          "state": {
            "_model_module": "@jupyter-widgets/base",
            "_model_module_version": "1.2.0",
            "_model_name": "LayoutModel",
            "_view_count": null,
            "_view_module": "@jupyter-widgets/base",
            "_view_module_version": "1.2.0",
            "_view_name": "LayoutView",
            "align_content": null,
            "align_items": null,
            "align_self": null,
            "border": null,
            "bottom": null,
            "display": null,
            "flex": null,
            "flex_flow": null,
            "grid_area": null,
            "grid_auto_columns": null,
            "grid_auto_flow": null,
            "grid_auto_rows": null,
            "grid_column": null,
            "grid_gap": null,
            "grid_row": null,
            "grid_template_areas": null,
            "grid_template_columns": null,
            "grid_template_rows": null,
            "height": null,
            "justify_content": null,
            "justify_items": null,
            "left": null,
            "margin": null,
            "max_height": null,
            "max_width": null,
            "min_height": null,
            "min_width": null,
            "object_fit": null,
            "object_position": null,
            "order": null,
            "overflow": null,
            "overflow_x": null,
            "overflow_y": null,
            "padding": null,
            "right": null,
            "top": null,
            "visibility": null,
            "width": null
          }
        },
        "8f0479ae8b314ee882e7f7c858f99150": {
          "model_module": "@jupyter-widgets/base",
          "model_name": "LayoutModel",
          "model_module_version": "1.2.0",
          "state": {
            "_model_module": "@jupyter-widgets/base",
            "_model_module_version": "1.2.0",
            "_model_name": "LayoutModel",
            "_view_count": null,
            "_view_module": "@jupyter-widgets/base",
            "_view_module_version": "1.2.0",
            "_view_name": "LayoutView",
            "align_content": null,
            "align_items": null,
            "align_self": null,
            "border": null,
            "bottom": null,
            "display": null,
            "flex": null,
            "flex_flow": null,
            "grid_area": null,
            "grid_auto_columns": null,
            "grid_auto_flow": null,
            "grid_auto_rows": null,
            "grid_column": null,
            "grid_gap": null,
            "grid_row": null,
            "grid_template_areas": null,
            "grid_template_columns": null,
            "grid_template_rows": null,
            "height": null,
            "justify_content": null,
            "justify_items": null,
            "left": null,
            "margin": null,
            "max_height": null,
            "max_width": null,
            "min_height": null,
            "min_width": null,
            "object_fit": null,
            "object_position": null,
            "order": null,
            "overflow": null,
            "overflow_x": null,
            "overflow_y": null,
            "padding": null,
            "right": null,
            "top": null,
            "visibility": null,
            "width": null
          }
        },
        "4e0769531aa84856ab9f7fb6bba7286b": {
          "model_module": "@jupyter-widgets/controls",
          "model_name": "DescriptionStyleModel",
          "model_module_version": "1.5.0",
          "state": {
            "_model_module": "@jupyter-widgets/controls",
            "_model_module_version": "1.5.0",
            "_model_name": "DescriptionStyleModel",
            "_view_count": null,
            "_view_module": "@jupyter-widgets/base",
            "_view_module_version": "1.2.0",
            "_view_name": "StyleView",
            "description_width": ""
          }
        },
        "8f9ecdcb39b4403ba854894e443b2f7d": {
          "model_module": "@jupyter-widgets/base",
          "model_name": "LayoutModel",
          "model_module_version": "1.2.0",
          "state": {
            "_model_module": "@jupyter-widgets/base",
            "_model_module_version": "1.2.0",
            "_model_name": "LayoutModel",
            "_view_count": null,
            "_view_module": "@jupyter-widgets/base",
            "_view_module_version": "1.2.0",
            "_view_name": "LayoutView",
            "align_content": null,
            "align_items": null,
            "align_self": null,
            "border": null,
            "bottom": null,
            "display": null,
            "flex": null,
            "flex_flow": null,
            "grid_area": null,
            "grid_auto_columns": null,
            "grid_auto_flow": null,
            "grid_auto_rows": null,
            "grid_column": null,
            "grid_gap": null,
            "grid_row": null,
            "grid_template_areas": null,
            "grid_template_columns": null,
            "grid_template_rows": null,
            "height": null,
            "justify_content": null,
            "justify_items": null,
            "left": null,
            "margin": null,
            "max_height": null,
            "max_width": null,
            "min_height": null,
            "min_width": null,
            "object_fit": null,
            "object_position": null,
            "order": null,
            "overflow": null,
            "overflow_x": null,
            "overflow_y": null,
            "padding": null,
            "right": null,
            "top": null,
            "visibility": null,
            "width": null
          }
        },
        "cad76bd9bab54f768ec4a4e7355b1254": {
          "model_module": "@jupyter-widgets/controls",
          "model_name": "ProgressStyleModel",
          "model_module_version": "1.5.0",
          "state": {
            "_model_module": "@jupyter-widgets/controls",
            "_model_module_version": "1.5.0",
            "_model_name": "ProgressStyleModel",
            "_view_count": null,
            "_view_module": "@jupyter-widgets/base",
            "_view_module_version": "1.2.0",
            "_view_name": "StyleView",
            "bar_color": null,
            "description_width": ""
          }
        },
        "9901382b959c46ec915af9509bdf8414": {
          "model_module": "@jupyter-widgets/base",
          "model_name": "LayoutModel",
          "model_module_version": "1.2.0",
          "state": {
            "_model_module": "@jupyter-widgets/base",
            "_model_module_version": "1.2.0",
            "_model_name": "LayoutModel",
            "_view_count": null,
            "_view_module": "@jupyter-widgets/base",
            "_view_module_version": "1.2.0",
            "_view_name": "LayoutView",
            "align_content": null,
            "align_items": null,
            "align_self": null,
            "border": null,
            "bottom": null,
            "display": null,
            "flex": null,
            "flex_flow": null,
            "grid_area": null,
            "grid_auto_columns": null,
            "grid_auto_flow": null,
            "grid_auto_rows": null,
            "grid_column": null,
            "grid_gap": null,
            "grid_row": null,
            "grid_template_areas": null,
            "grid_template_columns": null,
            "grid_template_rows": null,
            "height": null,
            "justify_content": null,
            "justify_items": null,
            "left": null,
            "margin": null,
            "max_height": null,
            "max_width": null,
            "min_height": null,
            "min_width": null,
            "object_fit": null,
            "object_position": null,
            "order": null,
            "overflow": null,
            "overflow_x": null,
            "overflow_y": null,
            "padding": null,
            "right": null,
            "top": null,
            "visibility": null,
            "width": null
          }
        },
        "c00d2fda034d48b799783af8ec9a89ae": {
          "model_module": "@jupyter-widgets/controls",
          "model_name": "DescriptionStyleModel",
          "model_module_version": "1.5.0",
          "state": {
            "_model_module": "@jupyter-widgets/controls",
            "_model_module_version": "1.5.0",
            "_model_name": "DescriptionStyleModel",
            "_view_count": null,
            "_view_module": "@jupyter-widgets/base",
            "_view_module_version": "1.2.0",
            "_view_name": "StyleView",
            "description_width": ""
          }
        },
        "872b37fea1b947d1b621e172a94b1a2b": {
          "model_module": "@jupyter-widgets/controls",
          "model_name": "HBoxModel",
          "model_module_version": "1.5.0",
          "state": {
            "_dom_classes": [],
            "_model_module": "@jupyter-widgets/controls",
            "_model_module_version": "1.5.0",
            "_model_name": "HBoxModel",
            "_view_count": null,
            "_view_module": "@jupyter-widgets/controls",
            "_view_module_version": "1.5.0",
            "_view_name": "HBoxView",
            "box_style": "",
            "children": [
              "IPY_MODEL_03134d05e2c049ebaf8ee76a2553076e",
              "IPY_MODEL_4aae4ab7f92c4338901bc64bbf26fcaa",
              "IPY_MODEL_f47855db38e445bdb70a3d45483fd7d9"
            ],
            "layout": "IPY_MODEL_5c8e18ed209c497e9fbe280718f45058"
          }
        },
        "03134d05e2c049ebaf8ee76a2553076e": {
          "model_module": "@jupyter-widgets/controls",
          "model_name": "HTMLModel",
          "model_module_version": "1.5.0",
          "state": {
            "_dom_classes": [],
            "_model_module": "@jupyter-widgets/controls",
            "_model_module_version": "1.5.0",
            "_model_name": "HTMLModel",
            "_view_count": null,
            "_view_module": "@jupyter-widgets/controls",
            "_view_module_version": "1.5.0",
            "_view_name": "HTMLView",
            "description": "",
            "description_tooltip": null,
            "layout": "IPY_MODEL_55dd638cd5474854bae4fc71631dd2af",
            "placeholder": "​",
            "style": "IPY_MODEL_ca10c6b1d9b54abc93b45b809e9f9f85",
            "value": "Batches: 100%"
          }
        },
        "4aae4ab7f92c4338901bc64bbf26fcaa": {
          "model_module": "@jupyter-widgets/controls",
          "model_name": "FloatProgressModel",
          "model_module_version": "1.5.0",
          "state": {
            "_dom_classes": [],
            "_model_module": "@jupyter-widgets/controls",
            "_model_module_version": "1.5.0",
            "_model_name": "FloatProgressModel",
            "_view_count": null,
            "_view_module": "@jupyter-widgets/controls",
            "_view_module_version": "1.5.0",
            "_view_name": "ProgressView",
            "bar_style": "success",
            "description": "",
            "description_tooltip": null,
            "layout": "IPY_MODEL_251e5fc9a6d14ddb9a8ceefdd60abfcf",
            "max": 633,
            "min": 0,
            "orientation": "horizontal",
            "style": "IPY_MODEL_3ed8f2c311d1472d8cb387578bc62f55",
            "value": 633
          }
        },
        "f47855db38e445bdb70a3d45483fd7d9": {
          "model_module": "@jupyter-widgets/controls",
          "model_name": "HTMLModel",
          "model_module_version": "1.5.0",
          "state": {
            "_dom_classes": [],
            "_model_module": "@jupyter-widgets/controls",
            "_model_module_version": "1.5.0",
            "_model_name": "HTMLModel",
            "_view_count": null,
            "_view_module": "@jupyter-widgets/controls",
            "_view_module_version": "1.5.0",
            "_view_name": "HTMLView",
            "description": "",
            "description_tooltip": null,
            "layout": "IPY_MODEL_83a55328cf33440faa2d3b9d0d32b7cf",
            "placeholder": "​",
            "style": "IPY_MODEL_4d2608633c244b7185b687b0fea0884c",
            "value": " 633/633 [04:15&lt;00:00, 32.63it/s]"
          }
        },
        "5c8e18ed209c497e9fbe280718f45058": {
          "model_module": "@jupyter-widgets/base",
          "model_name": "LayoutModel",
          "model_module_version": "1.2.0",
          "state": {
            "_model_module": "@jupyter-widgets/base",
            "_model_module_version": "1.2.0",
            "_model_name": "LayoutModel",
            "_view_count": null,
            "_view_module": "@jupyter-widgets/base",
            "_view_module_version": "1.2.0",
            "_view_name": "LayoutView",
            "align_content": null,
            "align_items": null,
            "align_self": null,
            "border": null,
            "bottom": null,
            "display": null,
            "flex": null,
            "flex_flow": null,
            "grid_area": null,
            "grid_auto_columns": null,
            "grid_auto_flow": null,
            "grid_auto_rows": null,
            "grid_column": null,
            "grid_gap": null,
            "grid_row": null,
            "grid_template_areas": null,
            "grid_template_columns": null,
            "grid_template_rows": null,
            "height": null,
            "justify_content": null,
            "justify_items": null,
            "left": null,
            "margin": null,
            "max_height": null,
            "max_width": null,
            "min_height": null,
            "min_width": null,
            "object_fit": null,
            "object_position": null,
            "order": null,
            "overflow": null,
            "overflow_x": null,
            "overflow_y": null,
            "padding": null,
            "right": null,
            "top": null,
            "visibility": null,
            "width": null
          }
        },
        "55dd638cd5474854bae4fc71631dd2af": {
          "model_module": "@jupyter-widgets/base",
          "model_name": "LayoutModel",
          "model_module_version": "1.2.0",
          "state": {
            "_model_module": "@jupyter-widgets/base",
            "_model_module_version": "1.2.0",
            "_model_name": "LayoutModel",
            "_view_count": null,
            "_view_module": "@jupyter-widgets/base",
            "_view_module_version": "1.2.0",
            "_view_name": "LayoutView",
            "align_content": null,
            "align_items": null,
            "align_self": null,
            "border": null,
            "bottom": null,
            "display": null,
            "flex": null,
            "flex_flow": null,
            "grid_area": null,
            "grid_auto_columns": null,
            "grid_auto_flow": null,
            "grid_auto_rows": null,
            "grid_column": null,
            "grid_gap": null,
            "grid_row": null,
            "grid_template_areas": null,
            "grid_template_columns": null,
            "grid_template_rows": null,
            "height": null,
            "justify_content": null,
            "justify_items": null,
            "left": null,
            "margin": null,
            "max_height": null,
            "max_width": null,
            "min_height": null,
            "min_width": null,
            "object_fit": null,
            "object_position": null,
            "order": null,
            "overflow": null,
            "overflow_x": null,
            "overflow_y": null,
            "padding": null,
            "right": null,
            "top": null,
            "visibility": null,
            "width": null
          }
        },
        "ca10c6b1d9b54abc93b45b809e9f9f85": {
          "model_module": "@jupyter-widgets/controls",
          "model_name": "DescriptionStyleModel",
          "model_module_version": "1.5.0",
          "state": {
            "_model_module": "@jupyter-widgets/controls",
            "_model_module_version": "1.5.0",
            "_model_name": "DescriptionStyleModel",
            "_view_count": null,
            "_view_module": "@jupyter-widgets/base",
            "_view_module_version": "1.2.0",
            "_view_name": "StyleView",
            "description_width": ""
          }
        },
        "251e5fc9a6d14ddb9a8ceefdd60abfcf": {
          "model_module": "@jupyter-widgets/base",
          "model_name": "LayoutModel",
          "model_module_version": "1.2.0",
          "state": {
            "_model_module": "@jupyter-widgets/base",
            "_model_module_version": "1.2.0",
            "_model_name": "LayoutModel",
            "_view_count": null,
            "_view_module": "@jupyter-widgets/base",
            "_view_module_version": "1.2.0",
            "_view_name": "LayoutView",
            "align_content": null,
            "align_items": null,
            "align_self": null,
            "border": null,
            "bottom": null,
            "display": null,
            "flex": null,
            "flex_flow": null,
            "grid_area": null,
            "grid_auto_columns": null,
            "grid_auto_flow": null,
            "grid_auto_rows": null,
            "grid_column": null,
            "grid_gap": null,
            "grid_row": null,
            "grid_template_areas": null,
            "grid_template_columns": null,
            "grid_template_rows": null,
            "height": null,
            "justify_content": null,
            "justify_items": null,
            "left": null,
            "margin": null,
            "max_height": null,
            "max_width": null,
            "min_height": null,
            "min_width": null,
            "object_fit": null,
            "object_position": null,
            "order": null,
            "overflow": null,
            "overflow_x": null,
            "overflow_y": null,
            "padding": null,
            "right": null,
            "top": null,
            "visibility": null,
            "width": null
          }
        },
        "3ed8f2c311d1472d8cb387578bc62f55": {
          "model_module": "@jupyter-widgets/controls",
          "model_name": "ProgressStyleModel",
          "model_module_version": "1.5.0",
          "state": {
            "_model_module": "@jupyter-widgets/controls",
            "_model_module_version": "1.5.0",
            "_model_name": "ProgressStyleModel",
            "_view_count": null,
            "_view_module": "@jupyter-widgets/base",
            "_view_module_version": "1.2.0",
            "_view_name": "StyleView",
            "bar_color": null,
            "description_width": ""
          }
        },
        "83a55328cf33440faa2d3b9d0d32b7cf": {
          "model_module": "@jupyter-widgets/base",
          "model_name": "LayoutModel",
          "model_module_version": "1.2.0",
          "state": {
            "_model_module": "@jupyter-widgets/base",
            "_model_module_version": "1.2.0",
            "_model_name": "LayoutModel",
            "_view_count": null,
            "_view_module": "@jupyter-widgets/base",
            "_view_module_version": "1.2.0",
            "_view_name": "LayoutView",
            "align_content": null,
            "align_items": null,
            "align_self": null,
            "border": null,
            "bottom": null,
            "display": null,
            "flex": null,
            "flex_flow": null,
            "grid_area": null,
            "grid_auto_columns": null,
            "grid_auto_flow": null,
            "grid_auto_rows": null,
            "grid_column": null,
            "grid_gap": null,
            "grid_row": null,
            "grid_template_areas": null,
            "grid_template_columns": null,
            "grid_template_rows": null,
            "height": null,
            "justify_content": null,
            "justify_items": null,
            "left": null,
            "margin": null,
            "max_height": null,
            "max_width": null,
            "min_height": null,
            "min_width": null,
            "object_fit": null,
            "object_position": null,
            "order": null,
            "overflow": null,
            "overflow_x": null,
            "overflow_y": null,
            "padding": null,
            "right": null,
            "top": null,
            "visibility": null,
            "width": null
          }
        },
        "4d2608633c244b7185b687b0fea0884c": {
          "model_module": "@jupyter-widgets/controls",
          "model_name": "DescriptionStyleModel",
          "model_module_version": "1.5.0",
          "state": {
            "_model_module": "@jupyter-widgets/controls",
            "_model_module_version": "1.5.0",
            "_model_name": "DescriptionStyleModel",
            "_view_count": null,
            "_view_module": "@jupyter-widgets/base",
            "_view_module_version": "1.2.0",
            "_view_name": "StyleView",
            "description_width": ""
          }
        }
      }
    }
  },
  "nbformat": 4,
  "nbformat_minor": 5
}